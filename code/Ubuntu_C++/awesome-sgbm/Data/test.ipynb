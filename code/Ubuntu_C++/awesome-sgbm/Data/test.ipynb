{
 "cells": [
  {
   "cell_type": "code",
   "execution_count": 2,
   "metadata": {},
   "outputs": [
    {
     "name": "stdout",
     "output_type": "stream",
     "text": [
      "视频已保存为 /home/wdxm/code/STEREO_MATCH_SGBM/code/Ubuntu_C++/awesome-sgbm/Data/cone/right.avi\n"
     ]
    }
   ],
   "source": [
    "import cv2\n",
    "import time\n",
    "\n",
    "# 读取图片\n",
    "image = cv2.imread('/home/wdxm/code/STEREO_MATCH_SGBM/code/Ubuntu_C++/awesome-sgbm/Data/cone/right.png')  # 请替换为你自己的图片路径\n",
    "\n",
    "# 获取图片的尺寸\n",
    "height, width, _ = image.shape\n",
    "\n",
    "# 视频保存参数\n",
    "output_video_path = '/home/wdxm/code/STEREO_MATCH_SGBM/code/Ubuntu_C++/awesome-sgbm/Data/cone/right.avi'\n",
    "fps = 30  # 设置帧率，每秒30帧\n",
    "duration = 20  # 视频时长20秒\n",
    "frame_count = fps * duration  # 总帧数\n",
    "\n",
    "# 创建视频写入器\n",
    "fourcc = cv2.VideoWriter_fourcc(*'XVID')  # 使用XVID编码格式\n",
    "out = cv2.VideoWriter(output_video_path, fourcc, fps, (width, height))\n",
    "\n",
    "# 将图片重复写入视频文件\n",
    "start_time = time.time()\n",
    "while time.time() - start_time < duration:\n",
    "    out.write(image)  # 每次写入一帧\n",
    "\n",
    "# 释放视频写入器\n",
    "out.release()\n",
    "\n",
    "# 关闭窗口\n",
    "cv2.destroyAllWindows()\n",
    "\n",
    "print(f\"视频已保存为 {output_video_path}\")\n"
   ]
  },
  {
   "cell_type": "code",
   "execution_count": 20,
   "metadata": {},
   "outputs": [
    {
     "name": "stdout",
     "output_type": "stream",
     "text": [
      "视频已保存为 /home/wdxm/code/STEREO_MATCH_SGBM/code/Ubuntu_C++/awesome-sgbm/bin/testing/image_3/test.avi\n"
     ]
    }
   ],
   "source": [
    "import cv2\n",
    "import os\n",
    "import glob\n",
    "\n",
    "# 获取目录下的所有图片路径\n",
    "image_folder = '/home/wdxm/code/STEREO_MATCH_SGBM/code/Ubuntu_C++/awesome-sgbm/bin/testing/image_3'  # 请替换为你自己的图片文件夹路径\n",
    "image_files = sorted(glob.glob(os.path.join(image_folder, '*.png')))  # 根据文件类型过滤（如 '*.jpg'）\n",
    "\n",
    "# 确保图片文件夹不为空\n",
    "if len(image_files) == 0:\n",
    "    print(\"目录中没有找到图片！\")\n",
    "    exit()\n",
    "\n",
    "# 读取第一张图片以获取尺寸\n",
    "image = cv2.imread(image_files[0])\n",
    "height, width, _ = image.shape\n",
    "xx = 1\n",
    "# 设置视频参数\n",
    "output_video_path = '/home/wdxm/code/STEREO_MATCH_SGBM/code/Ubuntu_C++/awesome-sgbm/bin/testing/image_3/test.avi'\n",
    "fps = 30  # 设置帧率\n",
    "fourcc = cv2.VideoWriter_fourcc(*'XVID')  # 使用XVID编码格式\n",
    "out = cv2.VideoWriter(output_video_path, fourcc, fps, (width*xx, height*xx))\n",
    "\n",
    "# 将图片逐帧写入视频\n",
    "for image_file in image_files:\n",
    "    img = cv2.imread(image_file)\n",
    "    img = cv2.resize(img, (width*xx,height*xx))\n",
    "    out.write(img)  # 每次写入一帧\n",
    "\n",
    "# 释放视频写入器\n",
    "out.release()\n",
    "\n",
    "# 关闭窗口\n",
    "cv2.destroyAllWindows()\n",
    "\n",
    "print(f\"视频已保存为 {output_video_path}\")\n"
   ]
  }
 ],
 "metadata": {
  "kernelspec": {
   "display_name": "base",
   "language": "python",
   "name": "python3"
  },
  "language_info": {
   "codemirror_mode": {
    "name": "ipython",
    "version": 3
   },
   "file_extension": ".py",
   "mimetype": "text/x-python",
   "name": "python",
   "nbconvert_exporter": "python",
   "pygments_lexer": "ipython3",
   "version": "3.12.8"
  }
 },
 "nbformat": 4,
 "nbformat_minor": 2
}
